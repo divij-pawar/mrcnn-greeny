{
 "cells": [
  {
   "cell_type": "markdown",
   "metadata": {},
   "source": [
    "# Made for Google Colab notebook"
   ]
  },
  {
   "cell_type": "markdown",
   "metadata": {},
   "source": [
    "Change runtime of the notebook to GPU.<br>\n",
    "Runtime> Change runtime type> Hardware accelerator> GPU\n",
    "\n",
    "\n",
    "---\n",
    "\n"
   ]
  },
  {
   "attachments": {},
   "cell_type": "markdown",
   "metadata": {},
   "source": [
    "Change python version from latest to `Python 3.7`"
   ]
  },
  {
   "cell_type": "code",
   "execution_count": null,
   "metadata": {},
   "outputs": [],
   "source": [
    "!add-apt-repository ppa:deadsnakes/ppa\n",
    "!apt-get update\n",
    "!apt-get install python3.7\n",
    "!apt-get install python3.7-dev\n",
    "!apt-get install python3.7-distutils\n",
    "\n",
    "!wget https://bootstrap.pypa.io/get-pip.py && python3.7 get-pip.py\n",
    "  \n",
    "import sys\n",
    "\n",
    "sys.path[2] = '/usr/lib/python37.zip'\n",
    "sys.path[3] = '/usr/lib/python3.7'\n",
    "sys.path[4] = '/usr/lib/python3.7/lib-dynload'\n",
    "sys.path[5] = '/usr/local/lib/python3.7/dist-packages'\n",
    "sys.path[7] ='/usr/local/lib/python3.7/dist-packages/IPython/extensions'"
   ]
  },
  {
   "attachments": {},
   "cell_type": "markdown",
   "metadata": {},
   "source": [
    "Upload video file (.mp4) to be processed"
   ]
  },
  {
   "cell_type": "code",
   "execution_count": null,
   "metadata": {},
   "outputs": [],
   "source": [
    "from google.colab import files\n",
    "uploaded = files.upload()"
   ]
  },
  {
   "cell_type": "code",
   "execution_count": null,
   "metadata": {
    "id": "_A-gZDKH34Os"
   },
   "outputs": [],
   "source": [
    "!git clone https://github.com/divij-pawar/mrcnn-greeny"
   ]
  },
  {
   "cell_type": "code",
   "execution_count": null,
   "metadata": {
    "id": "8nMuFHMY4FQx"
   },
   "outputs": [],
   "source": [
    "!pip install -r /content/mrcnn-greeny/requirements.txt"
   ]
  },
  {
   "cell_type": "code",
   "execution_count": null,
   "metadata": {
    "id": "ObmoMg-w4Iov"
   },
   "outputs": [],
   "source": [
    "!wget https://github.com/matterport/Mask_RCNN/releases/download/v2.0/mask_rcnn_coco.h5 -P /content/mrcnn-greeny/"
   ]
  },
  {
   "cell_type": "code",
   "execution_count": null,
   "metadata": {
    "id": "KAzVyR1q4lbT"
   },
   "outputs": [],
   "source": [
    "!python3.7 /content/mrcnn-greeny/run.py"
   ]
  },
  {
   "attachments": {},
   "cell_type": "markdown",
   "metadata": {},
   "source": [
    "Find the resulting video with the same name with `_output` suffix in the Files tab on the left. It might take some time to refresh."
   ]
  }
 ],
 "metadata": {
  "accelerator": "GPU",
  "colab": {
   "name": "Trial.ipynb",
   "provenance": []
  },
  "kernelspec": {
   "display_name": "Python 3 (ipykernel)",
   "language": "python",
   "name": "python3"
  },
  "language_info": {
   "codemirror_mode": {
    "name": "ipython",
    "version": 3
   },
   "file_extension": ".py",
   "mimetype": "text/x-python",
   "name": "python",
   "nbconvert_exporter": "python",
   "pygments_lexer": "ipython3",
   "version": "3.9.7"
  }
 },
 "nbformat": 4,
 "nbformat_minor": 1
}
