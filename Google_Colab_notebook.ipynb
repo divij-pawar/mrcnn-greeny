{
  "nbformat": 4,
  "nbformat_minor": 0,
  "metadata": {
    "colab": {
      "name": "Trial.ipynb",
      "provenance": []
    },
    "kernelspec": {
      "name": "python3",
      "display_name": "Python 3"
    },
    "language_info": {
      "name": "python"
    },
    "accelerator": "GPU"
  },
  "cells": [
    {
      "cell_type": "code",
      "execution_count": null,
      "metadata": {
        "id": "_A-gZDKH34Os"
      },
      "outputs": [],
      "source": [
        "!git clone https://github.com/divij-pawar/mrcnn-greeny"
      ]
    },
    {
      "cell_type": "code",
      "source": [
        "!pip install -r /content/mrcnn-greeny/requirements.txt"
      ],
      "metadata": {
        "id": "8nMuFHMY4FQx"
      },
      "execution_count": null,
      "outputs": []
    },
    {
      "cell_type": "code",
      "source": [
        "!wget https://github.com/matterport/Mask_RCNN/releases/download/v2.0/mask_rcnn_coco.h5 -P /content/mrcnn-greeny/"
      ],
      "metadata": {
        "id": "ObmoMg-w4Iov"
      },
      "execution_count": null,
      "outputs": []
    },
    {
      "cell_type": "code",
      "source": [
        "!python3 /content/mrcnn-greeny/run.py"
      ],
      "metadata": {
        "id": "KAzVyR1q4lbT"
      },
      "execution_count": null,
      "outputs": []
    }
  ]
}